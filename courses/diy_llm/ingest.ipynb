{
 "cells": [
  {
   "cell_type": "code",
   "execution_count": 4,
   "metadata": {},
   "outputs": [],
   "source": [
    "import json\n",
    "from datasets import load_dataset\n",
    "from pyensign.events import Event\n",
    "from pyensign.ensign import Ensign\n",
    "\n",
    "def load_events(split):\n",
    "    for record in load_dataset(\"imdb\", split=split, streaming=True):\n",
    "        data = {\n",
    "            \"text\": record[\"text\"],\n",
    "            \"label\": record[\"label\"],\n",
    "            \"split\": split,\n",
    "        }\n",
    "        yield Event(json.dumps(data).encode(\"utf-8\"), mimetype=\"application/json\", schema_name=\"reviews-raw\", schema_version=\"0.1.0\")\n",
    "\n",
    "ensign = Ensign(client_id=\"gxfoGlYfcyZZxrCwLSnyEWLZDekmhRQF\", client_secret=\"UaFmMblmfgmUacTFONVm3NDL6JNH25bJSi6rQEd1eXnh0cwnp1hMr44NWqpjeCZc\")\n",
    "TEXT_TOPIC = \"movie-reviews-text\"\n",
    "for event in load_events(\"train\"):\n",
    "    await ensign.publish(TEXT_TOPIC, event)\n",
    "\n",
    "for event in load_events(\"test\"):\n",
    "    await ensign.publish(TEXT_TOPIC, event)\n",
    "\n",
    "for event in load_events(\"unsupervised\"):\n",
    "    await ensign.publish(TEXT_TOPIC, event)"
   ]
  },
  {
   "cell_type": "code",
   "execution_count": 7,
   "metadata": {},
   "outputs": [
    {
     "data": {
      "text/html": [
       "<div>\n",
       "<style scoped>\n",
       "    .dataframe tbody tr th:only-of-type {\n",
       "        vertical-align: middle;\n",
       "    }\n",
       "\n",
       "    .dataframe tbody tr th {\n",
       "        vertical-align: top;\n",
       "    }\n",
       "\n",
       "    .dataframe thead th {\n",
       "        text-align: right;\n",
       "    }\n",
       "</style>\n",
       "<table border=\"1\" class=\"dataframe\">\n",
       "  <thead>\n",
       "    <tr style=\"text-align: right;\">\n",
       "      <th></th>\n",
       "      <th>label</th>\n",
       "      <th>split</th>\n",
       "      <th>text</th>\n",
       "    </tr>\n",
       "  </thead>\n",
       "  <tbody>\n",
       "    <tr>\n",
       "      <th>066eztdvp8004ryw</th>\n",
       "      <td>0</td>\n",
       "      <td>train</td>\n",
       "      <td>I rented I AM CURIOUS-YELLOW from my video sto...</td>\n",
       "    </tr>\n",
       "    <tr>\n",
       "      <th>066eztdvq0004ryx</th>\n",
       "      <td>0</td>\n",
       "      <td>train</td>\n",
       "      <td>\"I Am Curious: Yellow\" is a risible and preten...</td>\n",
       "    </tr>\n",
       "    <tr>\n",
       "      <th>066eztdvq8004ryy</th>\n",
       "      <td>0</td>\n",
       "      <td>train</td>\n",
       "      <td>If only to avoid making this type of film in t...</td>\n",
       "    </tr>\n",
       "    <tr>\n",
       "      <th>066eztdvqg004ryz</th>\n",
       "      <td>0</td>\n",
       "      <td>train</td>\n",
       "      <td>This film was probably inspired by Godard's Ma...</td>\n",
       "    </tr>\n",
       "    <tr>\n",
       "      <th>066eztdvqr004rz0</th>\n",
       "      <td>0</td>\n",
       "      <td>train</td>\n",
       "      <td>Oh, brother...after hearing about this ridicul...</td>\n",
       "    </tr>\n",
       "  </tbody>\n",
       "</table>\n",
       "</div>"
      ],
      "text/plain": [
       "                  label  split  \\\n",
       "066eztdvp8004ryw      0  train   \n",
       "066eztdvq0004ryx      0  train   \n",
       "066eztdvq8004ryy      0  train   \n",
       "066eztdvqg004ryz      0  train   \n",
       "066eztdvqr004rz0      0  train   \n",
       "\n",
       "                                                               text  \n",
       "066eztdvp8004ryw  I rented I AM CURIOUS-YELLOW from my video sto...  \n",
       "066eztdvq0004ryx  \"I Am Curious: Yellow\" is a risible and preten...  \n",
       "066eztdvq8004ryy  If only to avoid making this type of film in t...  \n",
       "066eztdvqg004ryz  This film was probably inspired by Godard's Ma...  \n",
       "066eztdvqr004rz0  Oh, brother...after hearing about this ridicul...  "
      ]
     },
     "execution_count": 7,
     "metadata": {},
     "output_type": "execute_result"
    }
   ],
   "source": [
    "from pyensign.ml.dataframe import DataFrame\n",
    "\n",
    "cursor = await ensign.query(\"SELECT * FROM movie-reviews-text\")\n",
    "df = await DataFrame.from_events(cursor)\n",
    "df.head()"
   ]
  },
  {
   "cell_type": "code",
   "execution_count": 9,
   "metadata": {},
   "outputs": [
    {
     "name": "stdout",
     "output_type": "stream",
     "text": [
      "25000\n",
      "25000\n",
      "50000\n"
     ]
    }
   ],
   "source": [
    "print(\"train\", len(df[df[\"split\"] == \"train\"]))\n",
    "print(\"test\", len(df[df[\"split\"] == \"test\"]))\n",
    "print(\"unsupervised\", len(df[df[\"split\"] == \"unsupervised\"]))"
   ]
  }
 ],
 "metadata": {
  "kernelspec": {
   "display_name": "Python 3",
   "language": "python",
   "name": "python3"
  },
  "language_info": {
   "codemirror_mode": {
    "name": "ipython",
    "version": 3
   },
   "file_extension": ".py",
   "mimetype": "text/x-python",
   "name": "python",
   "nbconvert_exporter": "python",
   "pygments_lexer": "ipython3",
   "version": "3.11.6"
  },
  "orig_nbformat": 4
 },
 "nbformat": 4,
 "nbformat_minor": 2
}
